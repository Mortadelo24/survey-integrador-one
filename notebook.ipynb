{
 "cells": [
  {
   "cell_type": "markdown",
   "id": "0132992d",
   "metadata": {},
   "source": [
    "## Read Data"
   ]
  },
  {
   "cell_type": "code",
   "execution_count": 1,
   "id": "e1a15229",
   "metadata": {},
   "outputs": [],
   "source": [
    "import pandas as pd\n",
    "from datetime import datetime\n",
    "\n",
    "results = pd.read_csv(\"results.csv\")"
   ]
  },
  {
   "cell_type": "markdown",
   "id": "2492d14e",
   "metadata": {},
   "source": [
    "## Helper functions"
   ]
  },
  {
   "cell_type": "code",
   "execution_count": 2,
   "id": "2e89887e",
   "metadata": {},
   "outputs": [],
   "source": [
    "\n",
    "def string_to_number(number_string: str):\n",
    "    number_string = number_string.strip()\n",
    "\n",
    "    try:\n",
    "        return int(number_string)\n",
    "    except:\n",
    "        pass\n",
    "\n",
    "    return None\n",
    "\n",
    "closed_question_serializer = lambda ans: ans==\"Sí\"\n",
    "\n",
    "def range_question_serialize(ans: str):\n",
    "    result = 0\n",
    "    if ans == \"Rara vez\":\n",
    "        result = -2\n",
    "    elif ans == \"A veces\":\n",
    "        result = -1\n",
    "    elif ans == \"Frecuentemente\":\n",
    "        result = 1\n",
    "    elif ans == \"Siempre\":\n",
    "        result = 2\n",
    "\n",
    "    return result\n",
    "\n",
    "def range_question_serialize_authority(ans: str):\n",
    "    result = 0\n",
    "    if ans == \"Nada efectiva\":\n",
    "        result = -2\n",
    "    elif ans == \"Poca efectiva\":\n",
    "        result = -1\n",
    "    elif ans == \"Algo efectiva\":\n",
    "        result = 1\n",
    "    elif ans == \"Muy efectiva\":\n",
    "        result = 2\n",
    "\n",
    "    return result\n",
    "\n",
    "def string_list_serializer(ans: str):\n",
    "    return ans.split(\";\")"
   ]
  },
  {
   "cell_type": "markdown",
   "id": "fac7bbef",
   "metadata": {},
   "source": [
    "## Change column names"
   ]
  },
  {
   "cell_type": "code",
   "execution_count": 3,
   "id": "e83656ae",
   "metadata": {},
   "outputs": [],
   "source": [
    "\n",
    "new_name_columns = [\n",
    "    \"date\",\n",
    "    \"age\",\n",
    "    \"gender\",\n",
    "    \"has_access_smartphone\",\n",
    "    \"would_use_app\",\n",
    "    \"uses_social_mobile_apps\",\n",
    "    \"years_lived_in_dimitrov\",\n",
    "    \"frequency_security_problems_dimitrov\",\n",
    "    \"frequency_waste_problems_dimitrov\",\n",
    "    \"security_problems\",\n",
    "    \"waste_problems\",\n",
    "    \"knows_where_report\",\n",
    "    \"are_authorities_efective\",\n",
    "    \"likes_features_app\"\n",
    "]\n",
    "\n",
    "results.columns = new_name_columns"
   ]
  },
  {
   "cell_type": "markdown",
   "id": "2d1cdf0a",
   "metadata": {},
   "source": [
    "## Serialize Data"
   ]
  },
  {
   "cell_type": "code",
   "execution_count": 4,
   "id": "69bd8613",
   "metadata": {},
   "outputs": [],
   "source": [
    "\n",
    "results[\"date\"] = results[\"date\"].apply(lambda ds: datetime.strptime(ds[:-4], \"%Y/%m/%d %I:%M:%S %p\"))\n",
    "\n",
    "# there are some ages that does not include only digits so i will omit those\n",
    "results[\"age\"] = results[\"age\"].apply(string_to_number)\n",
    "results[\"gender\"] = results[\"gender\"].apply(lambda gs: gs==\"Masculinos\")\n",
    "results[\"has_access_smartphone\"] = results[\"has_access_smartphone\"].apply(closed_question_serializer)\n",
    "results[\"would_use_app\"] = results[\"would_use_app\"].apply(lambda ws: 1 if ws == \"Sí\" else (0 if ws == \"Tal vez\" else -1) )\n",
    "results[\"uses_social_mobile_apps\"] = results[\"uses_social_mobile_apps\"].apply(closed_question_serializer)\n",
    "\n",
    "# drop years_lived_in_dimitrov because the data has too much noise\n",
    "results.drop(\"years_lived_in_dimitrov\", axis=1, inplace=True)\n",
    "\n",
    "results[\"frequency_security_problems_dimitrov\"] = results[\"frequency_security_problems_dimitrov\"].apply(range_question_serialize)\n",
    "results[\"frequency_waste_problems_dimitrov\"] = results[\"frequency_waste_problems_dimitrov\"].apply(range_question_serialize)\n",
    "results[\"security_problems\"] = results[\"security_problems\"].apply(string_list_serializer)\n",
    "results[\"waste_problems\"] = results[\"waste_problems\"].apply(string_list_serializer)\n",
    "results[\"knows_where_report\"] = results[\"knows_where_report\"].apply(closed_question_serializer)\n",
    "\n",
    "results[\"likes_features_app\"] = results[\"likes_features_app\"].apply(string_list_serializer)\n"
   ]
  },
  {
   "cell_type": "markdown",
   "id": "f39cccca",
   "metadata": {},
   "source": [
    "## Save Serialized Data"
   ]
  },
  {
   "cell_type": "code",
   "execution_count": 5,
   "id": "9b1a4236",
   "metadata": {},
   "outputs": [],
   "source": [
    "results[\"date\"].apply(datetime.date)\n",
    "results.to_csv(\"output/serialized_results.csv\", index=False)\n",
    "\n",
    "\n",
    "spanish_results = results.rename(columns={\n",
    "    \"date\": \"fecha\",\n",
    "    \"age\": \"edad\",\n",
    "    \"gender\": \"genero\",\n",
    "    \"has_access_smartphone\": \"tiene_acceso_smartphone\",\n",
    "    \"would_use_app\": \"usaria_app\",\n",
    "    \"uses_social_mobile_apps\": \"usa_apps_sociales\",\n",
    "    \"years_lived_in_dimitrov\": \"anios_en_dimitrov\",\n",
    "    \"frequency_security_problems_dimitrov\": \"frecuencia_problemas_seguridad\",\n",
    "    \"frequency_waste_problems_dimitrov\": \"frecuencia_problemas_basura\",\n",
    "    \"security_problems\": \"tipos_problemas_seguridad\",\n",
    "    \"waste_problems\": \"tipos_problemas_basura\",\n",
    "    \"knows_where_report\": \"sabe_donde_reportar\",\n",
    "    \"are_authorities_efective\": \"autoridades_efectivas\",\n",
    "    \"likes_features_app\": \"funciones_deseadas_app\"\n",
    "})\n",
    "spanish_results.to_csv(\"output/datos_serializados.csv\")\n"
   ]
  }
 ],
 "metadata": {
  "kernelspec": {
   "display_name": "Python 3",
   "language": "python",
   "name": "python3"
  },
  "language_info": {
   "codemirror_mode": {
    "name": "ipython",
    "version": 3
   },
   "file_extension": ".py",
   "mimetype": "text/x-python",
   "name": "python",
   "nbconvert_exporter": "python",
   "pygments_lexer": "ipython3",
   "version": "3.12.10"
  }
 },
 "nbformat": 4,
 "nbformat_minor": 5
}
